{
 "cells": [
  {
   "cell_type": "markdown",
   "metadata": {
    "heading_collapsed": true
   },
   "source": [
    "#### Import the relevant libraries"
   ]
  },
  {
   "cell_type": "code",
   "execution_count": 1,
   "metadata": {
    "hidden": true
   },
   "outputs": [],
   "source": [
    "from PIL import Image\n",
    "from PIL import ImageFilter\n",
    "from PIL import ImageDraw\n",
    "import numpy as np\n",
    "import copy\n",
    "import time\n",
    "import math"
   ]
  },
  {
   "cell_type": "markdown",
   "metadata": {
    "heading_collapsed": true
   },
   "source": [
    "#### Read and convert to greyscale"
   ]
  },
  {
   "cell_type": "markdown",
   "metadata": {
    "hidden": true
   },
   "source": [
    "Open the image and convert it to greyscale since we are asked to convolve on greyscale images"
   ]
  },
  {
   "cell_type": "code",
   "execution_count": 37,
   "metadata": {
    "hidden": true
   },
   "outputs": [],
   "source": [
    "def display_np(x):\n",
    "    \"\"\"\n",
    "    Display a numpy array as an image\n",
    "    \"\"\"\n",
    "    result = Image.fromarray(x.astype('uint8'))\n",
    "    result.show()"
   ]
  },
  {
   "cell_type": "code",
   "execution_count": 38,
   "metadata": {
    "hidden": true
   },
   "outputs": [],
   "source": [
    "def read_image(x):\n",
    "    x = Image.open('test-images/' + x).convert(\"L\")\n",
    "    x = np.array(x)\n",
    "    return x"
   ]
  },
  {
   "cell_type": "code",
   "execution_count": 39,
   "metadata": {
    "hidden": true
   },
   "outputs": [],
   "source": [
    "def read_list(imgs):\n",
    "    return [read_image(im) for im in imgs]"
   ]
  },
  {
   "cell_type": "code",
   "execution_count": 40,
   "metadata": {
    "hidden": true
   },
   "outputs": [],
   "source": [
    "pixels = read_image('music1.png')\n",
    "# pixels.shape"
   ]
  },
  {
   "cell_type": "markdown",
   "metadata": {
    "heading_collapsed": true
   },
   "source": [
    "#### Custom kernels"
   ]
  },
  {
   "cell_type": "code",
   "execution_count": 41,
   "metadata": {
    "hidden": true
   },
   "outputs": [],
   "source": [
    "def check_range(x): return (np.min(x), np.max(x))"
   ]
  },
  {
   "cell_type": "code",
   "execution_count": 42,
   "metadata": {
    "hidden": true
   },
   "outputs": [
    {
     "data": {
      "text/plain": [
       "(0, 255)"
      ]
     },
     "execution_count": 42,
     "metadata": {},
     "output_type": "execute_result"
    }
   ],
   "source": [
    "check_range(pixels)"
   ]
  },
  {
   "cell_type": "markdown",
   "metadata": {
    "hidden": true
   },
   "source": [
    "**Some test kernels**\n",
    "\n",
    "- a = identity\n",
    "- b = box blur\n",
    "- c = horizontal derivative\n",
    "- d = gaussian\n",
    "- e = sharpening\n",
    "- f = derivative of gaussian"
   ]
  },
  {
   "cell_type": "code",
   "execution_count": 43,
   "metadata": {
    "hidden": true
   },
   "outputs": [
    {
     "data": {
      "text/plain": [
       "array([[0., 0., 0.],\n",
       "       [0., 1., 0.],\n",
       "       [0., 0., 0.]])"
      ]
     },
     "execution_count": 43,
     "metadata": {},
     "output_type": "execute_result"
    }
   ],
   "source": [
    "a = np.zeros((3,3))\n",
    "a[1,1] = 1\n",
    "a"
   ]
  },
  {
   "cell_type": "code",
   "execution_count": 44,
   "metadata": {
    "hidden": true
   },
   "outputs": [
    {
     "data": {
      "text/plain": [
       "array([[1., 1., 1.],\n",
       "       [1., 1., 1.],\n",
       "       [1., 1., 1.]])"
      ]
     },
     "execution_count": 44,
     "metadata": {},
     "output_type": "execute_result"
    }
   ],
   "source": [
    "b = np.ones((3,3))\n",
    "b"
   ]
  },
  {
   "cell_type": "code",
   "execution_count": 45,
   "metadata": {
    "hidden": true
   },
   "outputs": [
    {
     "data": {
      "text/plain": [
       "array([[ 0.,  0.,  0.],\n",
       "       [-1.,  0.,  1.],\n",
       "       [ 0.,  0.,  0.]])"
      ]
     },
     "execution_count": 45,
     "metadata": {},
     "output_type": "execute_result"
    }
   ],
   "source": [
    "c = np.zeros((3,3))\n",
    "c[1,0], c[1,2] = -1, 1\n",
    "c"
   ]
  },
  {
   "cell_type": "code",
   "execution_count": 46,
   "metadata": {
    "hidden": true
   },
   "outputs": [
    {
     "data": {
      "text/plain": [
       "array([[0.003, 0.013, 0.022, 0.013, 0.003],\n",
       "       [0.013, 0.059, 0.097, 0.059, 0.013],\n",
       "       [0.022, 0.097, 0.159, 0.097, 0.022],\n",
       "       [0.013, 0.059, 0.097, 0.059, 0.013],\n",
       "       [0.003, 0.013, 0.022, 0.013, 0.003]])"
      ]
     },
     "execution_count": 46,
     "metadata": {},
     "output_type": "execute_result"
    }
   ],
   "source": [
    "d = np.array([[0.003,0.013,0.022,0.013,0.003],\n",
    "             [0.013,0.059,0.097,0.059,0.013],\n",
    "             [0.022,0.097,0.159,0.097,0.022],\n",
    "             [0.013,0.059,0.097,0.059,0.013],\n",
    "             [0.003,0.013,0.022,0.013,0.003]])\n",
    "d"
   ]
  },
  {
   "cell_type": "code",
   "execution_count": 47,
   "metadata": {
    "hidden": true
   },
   "outputs": [
    {
     "data": {
      "text/plain": [
       "array([[-0.003, -0.013, -0.022, -0.013, -0.003],\n",
       "       [-0.013, -0.059, -0.097, -0.059, -0.013],\n",
       "       [-0.022, -0.097,  1.641, -0.097, -0.022],\n",
       "       [-0.013, -0.059, -0.097, -0.059, -0.013],\n",
       "       [-0.003, -0.013, -0.022, -0.013, -0.003]])"
      ]
     },
     "execution_count": 47,
     "metadata": {},
     "output_type": "execute_result"
    }
   ],
   "source": [
    "# vary the value of alpha\n",
    "e = np.zeros((5,5))\n",
    "e[1:4,1:4] = a\n",
    "alpha = 0.8 + 1\n",
    "e = e * alpha - d\n",
    "e"
   ]
  },
  {
   "cell_type": "code",
   "execution_count": 48,
   "metadata": {
    "hidden": true
   },
   "outputs": [
    {
     "data": {
      "text/plain": [
       "array([[ 0.   ,  0.   ,  0.   ,  0.   ,  0.   ],\n",
       "       [ 0.   ,  0.   ,  0.   ,  0.   ,  0.   ],\n",
       "       [ 0.   , -0.097,  0.   ,  0.097,  0.   ],\n",
       "       [ 0.   ,  0.   ,  0.   ,  0.   ,  0.   ],\n",
       "       [ 0.   ,  0.   ,  0.   ,  0.   ,  0.   ]])"
      ]
     },
     "execution_count": 48,
     "metadata": {},
     "output_type": "execute_result"
    }
   ],
   "source": [
    "f = np.zeros((5,5))\n",
    "f[1:4,1:4] = c\n",
    "f = f * d\n",
    "f"
   ]
  },
  {
   "cell_type": "markdown",
   "metadata": {
    "heading_collapsed": true
   },
   "source": [
    "#### Padding the image"
   ]
  },
  {
   "cell_type": "code",
   "execution_count": 49,
   "metadata": {
    "hidden": true
   },
   "outputs": [],
   "source": [
    "def pad_image(x, kernel):\n",
    "    \"\"\"\n",
    "    Create a new numpy array with all values 255 and then add the image in between\n",
    "    i/p: image, kernel\n",
    "    o/p: padded_kernelx\n",
    "    \"\"\"\n",
    "    to_add = kernel.shape[0] - 1\n",
    "    padded_image = np.full((x.shape[0] + to_add, x.shape[1] + to_add), 255)\n",
    "    t = to_add // 2\n",
    "    padded_image[t: padded_image.shape[0] - t, t: padded_image.shape[1] - t] = x\n",
    "    return padded_image"
   ]
  },
  {
   "cell_type": "code",
   "execution_count": 50,
   "metadata": {
    "hidden": true
   },
   "outputs": [
    {
     "data": {
      "text/plain": [
       "(233, 1276)"
      ]
     },
     "execution_count": 50,
     "metadata": {},
     "output_type": "execute_result"
    }
   ],
   "source": [
    "p = pad_image(pixels, a)\n",
    "p.shape"
   ]
  },
  {
   "cell_type": "code",
   "execution_count": 16,
   "metadata": {
    "hidden": true
   },
   "outputs": [],
   "source": [
    "assert p.shape == (pixels.shape[0] + a.shape[0] - 1, pixels.shape[1] + a.shape[0] - 1)"
   ]
  },
  {
   "cell_type": "code",
   "execution_count": 17,
   "metadata": {
    "hidden": true
   },
   "outputs": [],
   "source": [
    "# display_np(pixels)"
   ]
  },
  {
   "cell_type": "markdown",
   "metadata": {
    "heading_collapsed": true
   },
   "source": [
    "#### convolution"
   ]
  },
  {
   "cell_type": "code",
   "execution_count": 52,
   "metadata": {
    "hidden": true
   },
   "outputs": [],
   "source": [
    "def conv2d(image, kernel, div = 1, clip = True):\n",
    "    \"\"\"\n",
    "    Applies 2d convolution on a 2d image. Also works with rectangular kernels\n",
    "    \"\"\"\n",
    "\n",
    "    # number of rows and columns of the kernel\n",
    "    r = kernel.shape[0]\n",
    "    c = kernel.shape[1]\n",
    "\n",
    "    # initialize a canvas for the output with 255s. We will fill values in this\n",
    "    output = np.full(image.shape, 255)\n",
    "    for i in range(image.shape[0] - r - 1):\n",
    "        for j in range(image.shape[1] - c - 1):\n",
    "            output[i][j] = np.sum(kernel * image[i:i+r, j:j+c]) / div\n",
    "    if clip: np.clip(output, 0, 255, out = output)\n",
    "    return output\n",
    "    #display_np(output)"
   ]
  },
  {
   "cell_type": "code",
   "execution_count": 19,
   "metadata": {
    "hidden": true
   },
   "outputs": [],
   "source": [
    "# conv2d(p, a)\n",
    "# conv2d(p, b, 9)\n",
    "# conv2d(p, c)\n",
    "# conv2d(p, d)\n",
    "# conv2d(p, e)\n",
    "# conv2d(p, f)"
   ]
  },
  {
   "cell_type": "code",
   "execution_count": 20,
   "metadata": {
    "hidden": true
   },
   "outputs": [],
   "source": [
    "sobel = np.array([[-1, 0, 1],\n",
    "                 [-2, 0, 2],\n",
    "                 [-1, 0, 1]])"
   ]
  },
  {
   "cell_type": "code",
   "execution_count": 21,
   "metadata": {
    "hidden": true
   },
   "outputs": [],
   "source": [
    "conv2d(p, sobel)"
   ]
  },
  {
   "cell_type": "markdown",
   "metadata": {
    "heading_collapsed": true
   },
   "source": [
    "#### Template matching"
   ]
  },
  {
   "cell_type": "code",
   "execution_count": 33,
   "metadata": {
    "hidden": true
   },
   "outputs": [
    {
     "name": "stdout",
     "output_type": "stream",
     "text": [
      " Volume in drive C is Blade SSD\n",
      " Volume Serial Number is 58D5-4B39\n",
      "\n",
      " Directory of C:\\Users\\biraj\\Documents\\Computer Vision\\Assignments\\Assignment1\\test-images\n",
      "\n",
      "13-02-2020  12:03    <DIR>          .\n",
      "13-02-2020  12:03    <DIR>          ..\n",
      "12-02-2020  20:18            44,715 music1.png\n",
      "12-02-2020  20:18           161,897 music2.png\n",
      "12-02-2020  20:18           598,736 music3.png\n",
      "12-02-2020  20:18            26,874 music4.png\n",
      "12-02-2020  20:18           116,964 rach.png\n",
      "12-02-2020  20:18             7,021 template1.png\n",
      "12-02-2020  20:18             7,459 template2.png\n",
      "12-02-2020  20:18             7,335 template3.png\n",
      "               8 File(s)        971,001 bytes\n",
      "               2 Dir(s)  165,149,970,432 bytes free\n"
     ]
    }
   ],
   "source": [
    "%ls .\\\\test-images\\\\"
   ]
  },
  {
   "cell_type": "code",
   "execution_count": 23,
   "metadata": {
    "hidden": true
   },
   "outputs": [],
   "source": [
    "templates = read_list(['template1.png', 'template2.png', 'template3.png'])"
   ]
  },
  {
   "cell_type": "code",
   "execution_count": 24,
   "metadata": {
    "hidden": true
   },
   "outputs": [],
   "source": [
    "canvas = np.full(p.shape, 255)"
   ]
  },
  {
   "cell_type": "code",
   "execution_count": 25,
   "metadata": {
    "hidden": true
   },
   "outputs": [],
   "source": [
    "def find_threshold(y):\n",
    "    \"\"\"\n",
    "    Takes a number y and returns a threshold eg 3542, thresh = 3000\n",
    "    eg2 16258325 thresh 10000000\n",
    "    \"\"\"\n",
    "    # change threshold based on the value of y\n",
    "    y = [int(i) for i in str(y)]\n",
    "    thresh = y[0] * 10 ** (len(y) - 1)\n",
    "    return thresh"
   ]
  },
  {
   "cell_type": "code",
   "execution_count": 26,
   "metadata": {
    "hidden": true
   },
   "outputs": [],
   "source": [
    "def get_indexes(x, vals):\n",
    "    idxs1, idxs2 = np.array([]), np.array([])\n",
    "    \n",
    "    # filter out close values\n",
    "    \n",
    "    for v in vals:\n",
    "        v_idxs = np.where(x == v)\n",
    "        idxs1 = np.append(idxs1 ,v_idxs[0])\n",
    "        idxs2 = np.append(idxs2 ,v_idxs[1])\n",
    "    return idxs1, idxs2"
   ]
  },
  {
   "cell_type": "code",
   "execution_count": 27,
   "metadata": {
    "hidden": true
   },
   "outputs": [],
   "source": [
    "def temp_match(templates, padded_im):\n",
    "    \"\"\"\n",
    "    Takes a list of templates and an image and returns the matched template\n",
    "    \"\"\"\n",
    "    pix = Image.fromarray(padded_im.astype('uint8'))\n",
    "    img = ImageDraw.Draw(pix)  \n",
    "    \n",
    "    for template in templates:\n",
    "        # apply the hamming distance forumula\n",
    "        op = conv2d(padded_im, template, 1, False) + conv2d(255 - padded_im, 255 - template, 1, False)\n",
    "\n",
    "        # get the min and maximum value\n",
    "        x,y = check_range(op)    \n",
    "\n",
    "        # find threshold, eg if max val is 583 thresh = 500\n",
    "        thresh = find_threshold(y)\n",
    "\n",
    "        # get all the values above thresh\n",
    "        temp_op = op[op > thresh]\n",
    "\n",
    "        # get indexes of the values above thresh\n",
    "        idxs1, idxs2 = get_indexes(op, temp_op)\n",
    "\n",
    "        tr, tc = int(template.shape[0]), int(template.shape[1])\n",
    "        cr, cc = int(canvas.shape[0]), int(canvas.shape[1])\n",
    "\n",
    "        # if the template is not going out of the canvas, plot it\n",
    "        for r,c in zip(idxs1, idxs2):\n",
    "            r, c = int(r), int(c)\n",
    "            if r+tr < cr and c+tc < cc:\n",
    "                canvas[r:r+tr, c:c+tc] = padded_im[r:r+tr, c:c+tc]\n",
    "                img.rectangle([(c,r),(c+tc,r+tr)],fill=None,outline=\"green\")\n",
    "    pix.show()"
   ]
  },
  {
   "cell_type": "code",
   "execution_count": 28,
   "metadata": {
    "hidden": true
   },
   "outputs": [
    {
     "ename": "TypeError",
     "evalue": "unsupported operand type(s) for +: 'NoneType' and 'NoneType'",
     "output_type": "error",
     "traceback": [
      "\u001b[1;31m---------------------------------------------------------------------------\u001b[0m",
      "\u001b[1;31mTypeError\u001b[0m                                 Traceback (most recent call last)",
      "\u001b[1;32m<ipython-input-28-511baf469291>\u001b[0m in \u001b[0;36m<module>\u001b[1;34m\u001b[0m\n\u001b[1;32m----> 1\u001b[1;33m \u001b[0mtemp_match\u001b[0m\u001b[1;33m(\u001b[0m\u001b[0mtemplates\u001b[0m\u001b[1;33m,\u001b[0m\u001b[0mp\u001b[0m\u001b[1;33m)\u001b[0m\u001b[1;33m\u001b[0m\u001b[1;33m\u001b[0m\u001b[0m\n\u001b[0m",
      "\u001b[1;32m<ipython-input-27-0a2249db56a8>\u001b[0m in \u001b[0;36mtemp_match\u001b[1;34m(templates, padded_im)\u001b[0m\n\u001b[0;32m      8\u001b[0m     \u001b[1;32mfor\u001b[0m \u001b[0mtemplate\u001b[0m \u001b[1;32min\u001b[0m \u001b[0mtemplates\u001b[0m\u001b[1;33m:\u001b[0m\u001b[1;33m\u001b[0m\u001b[1;33m\u001b[0m\u001b[0m\n\u001b[0;32m      9\u001b[0m         \u001b[1;31m# apply the hamming distance forumula\u001b[0m\u001b[1;33m\u001b[0m\u001b[1;33m\u001b[0m\u001b[1;33m\u001b[0m\u001b[0m\n\u001b[1;32m---> 10\u001b[1;33m         \u001b[0mop\u001b[0m \u001b[1;33m=\u001b[0m \u001b[0mconv2d\u001b[0m\u001b[1;33m(\u001b[0m\u001b[0mpadded_im\u001b[0m\u001b[1;33m,\u001b[0m \u001b[0mtemplate\u001b[0m\u001b[1;33m,\u001b[0m \u001b[1;36m1\u001b[0m\u001b[1;33m,\u001b[0m \u001b[1;32mFalse\u001b[0m\u001b[1;33m)\u001b[0m \u001b[1;33m+\u001b[0m \u001b[0mconv2d\u001b[0m\u001b[1;33m(\u001b[0m\u001b[1;36m255\u001b[0m \u001b[1;33m-\u001b[0m \u001b[0mpadded_im\u001b[0m\u001b[1;33m,\u001b[0m \u001b[1;36m255\u001b[0m \u001b[1;33m-\u001b[0m \u001b[0mtemplate\u001b[0m\u001b[1;33m,\u001b[0m \u001b[1;36m1\u001b[0m\u001b[1;33m,\u001b[0m \u001b[1;32mFalse\u001b[0m\u001b[1;33m)\u001b[0m\u001b[1;33m\u001b[0m\u001b[1;33m\u001b[0m\u001b[0m\n\u001b[0m\u001b[0;32m     11\u001b[0m \u001b[1;33m\u001b[0m\u001b[0m\n\u001b[0;32m     12\u001b[0m         \u001b[1;31m# get the min and maximum value\u001b[0m\u001b[1;33m\u001b[0m\u001b[1;33m\u001b[0m\u001b[1;33m\u001b[0m\u001b[0m\n",
      "\u001b[1;31mTypeError\u001b[0m: unsupported operand type(s) for +: 'NoneType' and 'NoneType'"
     ]
    }
   ],
   "source": [
    "temp_match(templates,p)"
   ]
  },
  {
   "cell_type": "code",
   "execution_count": null,
   "metadata": {
    "hidden": true
   },
   "outputs": [],
   "source": [
    "# display_np(canvas)"
   ]
  },
  {
   "cell_type": "markdown",
   "metadata": {
    "heading_collapsed": true
   },
   "source": [
    "#### Part 6"
   ]
  },
  {
   "cell_type": "code",
   "execution_count": 54,
   "metadata": {
    "hidden": true
   },
   "outputs": [
    {
     "data": {
      "text/plain": [
       "(233, 1276)"
      ]
     },
     "execution_count": 54,
     "metadata": {},
     "output_type": "execute_result"
    }
   ],
   "source": [
    "#Using sobel kernels\n",
    "sobel_kernel = np.array([[-1, 0, 1], [-2, 0, 2], [-1, 0, 1]])\n",
    "\n",
    "#Convolving the image\n",
    "conv_img = conv2d(p, sobel_kernel.T)\n",
    "\n",
    "conv_img.shape\n",
    "\n",
    "#display_np(conv_img)\n",
    "# print(pixels.shape)"
   ]
  },
  {
   "cell_type": "code",
   "execution_count": null,
   "metadata": {
    "hidden": true
   },
   "outputs": [],
   "source": [
    "edge_maps = copy.deepcopy(conv_img)\n",
    "edge_maps[edge_maps != 0] = 1\n",
    "\n",
    "e2 = copy.deepcopy(edge_maps)"
   ]
  },
  {
   "cell_type": "code",
   "execution_count": null,
   "metadata": {
    "hidden": true
   },
   "outputs": [],
   "source": [
    "#Creating a function to calculate distance\n",
    "def calc_dist(a, b, c, d):\n",
    "    \n",
    "    #Calculating distance\n",
    "    dist = np.sqrt(np.abs(((a - c)**2) + ((b - d)**2)))\n",
    "    return dist\n",
    "\n",
    "#Retrieving the number of rows and columns in the image\n",
    "row, col = conv_img.shape\n",
    "\n",
    "#Creating an array to store distances\n",
    "D = []\n",
    "\n",
    "#Iterating through the image pixels\n",
    "for p in range(0,row):\n",
    "    for q in range(0,col):\n",
    "        \n",
    "        #Creating a temporary array\n",
    "        temp = []\n",
    "        \n",
    "        #Iterating through the edge pixels\n",
    "        for i in range(0,row):\n",
    "            for j in range(i,col):\n",
    "                if(conv_img[i][j] == 255):\n",
    "                    \n",
    "                    #Calculating distance and storing it in temp\n",
    "                    dist = calc_dist(p, q, i, j)\n",
    "                    temp.append(dist)\n",
    "                    \n",
    "        #Converting the temporary array to a numpy array\n",
    "        temp = np.array(temp)\n",
    "        \n",
    "        #Finding the smallest distance and storing it in D\n",
    "        min_dist = np.min(temp)\n",
    "        D.append(min_dist)\n",
    "        \n",
    "        print(p,q)\n",
    "        \n",
    "#Reshaping D to that of the image\n",
    "D = np.array(D).reshape(conv_img.shape)"
   ]
  },
  {
   "cell_type": "markdown",
   "metadata": {
    "heading_collapsed": true
   },
   "source": [
    "#### Hough transform"
   ]
  },
  {
   "cell_type": "code",
   "execution_count": 67,
   "metadata": {},
   "outputs": [
    {
     "data": {
      "text/plain": [
       "(233, 1276)"
      ]
     },
     "execution_count": 67,
     "metadata": {},
     "output_type": "execute_result"
    }
   ],
   "source": [
    "conv_img.shape"
   ]
  },
  {
   "cell_type": "code",
   "execution_count": 74,
   "metadata": {
    "hidden": true
   },
   "outputs": [],
   "source": [
    "def hough_transform(img):\n",
    "    \n",
    "    # Rho and Theta ranges\n",
    "    thetas = np.deg2rad(np.arange(-90.0, 90.0))\n",
    "    width, height = img.shape\n",
    "    diag_len = int(round(math.sqrt(width * width + height * height)))   # max_dist\n",
    "    rhos = np.linspace(-diag_len, diag_len, diag_len * 2)\n",
    "\n",
    "    # Cache some resuable values\n",
    "    cos_t = np.cos(thetas)\n",
    "    sin_t = np.sin(thetas)\n",
    "    num_thetas = len(thetas)\n",
    "\n",
    "    # Hough accumulator array of rho vs theta\n",
    "    accumulator = np.zeros((2 * diag_len, num_thetas), dtype=np.uint64)\n",
    "    accumulator.shape\n",
    "\n",
    "    y_idxs, x_idxs = np.nonzero(img)  # (row, col) indexes to edges\n",
    "    # len(y_idxs), len(x_idxs)\n",
    "\n",
    "    # # Vote in the hough accumulator\n",
    "    for i in range(len(x_idxs)):\n",
    "        x = x_idxs[i]\n",
    "        y = y_idxs[i]\n",
    "        #print(x,y)\n",
    "\n",
    "        for t_idx in range(num_thetas):\n",
    "            # Calculate rho. diag_len is added for a positive index\n",
    "            rho = round(x * cos_t[t_idx] + y * sin_t[t_idx]) + np.float(diag_len)\n",
    "            accumulator[int(rho), t_idx] += 1\n",
    "            \n",
    "    return accumulator, thetas, rhos\n"
   ]
  },
  {
   "cell_type": "code",
   "execution_count": 75,
   "metadata": {
    "hidden": true
   },
   "outputs": [],
   "source": [
    "acc, thetas, rhos = hough_transform(conv_img)"
   ]
  },
  {
   "cell_type": "code",
   "execution_count": 88,
   "metadata": {
    "hidden": true
   },
   "outputs": [],
   "source": [
    "def show_hough_line(img, accumulator, thetas, rhos, save_path=None):\n",
    "    import matplotlib.pyplot as plt\n",
    "\n",
    "    fig, ax = plt.subplots(1, 2, figsize=(10, 10))\n",
    "\n",
    "    ax[0].imshow(img, cmap=plt.cm.gray)\n",
    "    ax[0].set_title('Input image')\n",
    "    ax[0].axis('image')\n",
    "\n",
    "    ax[1].imshow(\n",
    "        accumulator, cmap='jet',\n",
    "        extent=[np.rad2deg(thetas[-1]), np.rad2deg(thetas[0]), rhos[-1], rhos[0]])\n",
    "    ax[1].set_aspect('equal', adjustable='box')\n",
    "    ax[1].set_title('Hough transform')\n",
    "    ax[1].set_xlabel('Angles (degrees)')\n",
    "    ax[1].set_ylabel('Distance (pixels)')\n",
    "    ax[1].axis('image')\n",
    "\n",
    "    # plt.axis('off')\n",
    "    if save_path is not None:\n",
    "        plt.savefig(save_path, bbox_inches='tight')\n",
    "    plt.show()"
   ]
  },
  {
   "cell_type": "code",
   "execution_count": 89,
   "metadata": {},
   "outputs": [
    {
     "data": {
      "image/png": "[encoded data removed]",
      "text/plain": [
       "<Figure size 720x720 with 2 Axes>"
      ]
     },
     "metadata": {
      "needs_background": "light"
     },
     "output_type": "display_data"
    }
   ],
   "source": [
    "show_hough_line(conv_img, accumulator, thetas, rhos, save_path='test-images/output.png')"
   ]
  },
  {
   "cell_type": "markdown",
   "metadata": {
    "heading_collapsed": true
   },
   "source": [
    "#### 1d convolution"
   ]
  },
  {
   "cell_type": "code",
   "execution_count": null,
   "metadata": {
    "hidden": true
   },
   "outputs": [],
   "source": [
    "def conv1d(image, kernel, div = 1):\n",
    "    \"\"\"\n",
    "    Performs 1d convolution on an image\n",
    "    \"\"\"\n",
    "    \n",
    "    im = copy.deepcopy(image.flatten())\n",
    "    k = copy.deepcopy(kernel.flatten())\n",
    "\n",
    "    size = len(k)\n",
    "    to_remove = len(k) - 1\n",
    "    \n",
    "    output = np.full((im.shape), 255)\n",
    "    for i in range(len(im) - to_remove):\n",
    "        output[i] = np.sum(k * im[i:i+size]) / div\n",
    "    return output"
   ]
  },
  {
   "cell_type": "code",
   "execution_count": null,
   "metadata": {
    "hidden": true
   },
   "outputs": [],
   "source": [
    "h1 = np.array([1,2,1])\n",
    "h2 = np.array([-1,0,1])"
   ]
  },
  {
   "cell_type": "code",
   "execution_count": null,
   "metadata": {
    "hidden": true
   },
   "outputs": [],
   "source": [
    "tmp = conv1d(p, h1)"
   ]
  },
  {
   "cell_type": "code",
   "execution_count": null,
   "metadata": {
    "hidden": true
   },
   "outputs": [],
   "source": [
    "result = conv1d(tmp, h2)"
   ]
  },
  {
   "cell_type": "code",
   "execution_count": null,
   "metadata": {
    "hidden": true
   },
   "outputs": [],
   "source": [
    "check_range(result)"
   ]
  },
  {
   "cell_type": "code",
   "execution_count": null,
   "metadata": {
    "hidden": true
   },
   "outputs": [],
   "source": [
    "np.clip(result, 0, 255, out = result)\n",
    "check_range(result)"
   ]
  },
  {
   "cell_type": "code",
   "execution_count": null,
   "metadata": {
    "hidden": true
   },
   "outputs": [],
   "source": [
    "result = result.reshape(p.shape)\n",
    "result.shape"
   ]
  }
 ],
 "metadata": {
  "kernelspec": {
   "display_name": "Python 3",
   "language": "python",
   "name": "python3"
  },
  "language_info": {
   "codemirror_mode": {
    "name": "ipython",
    "version": 3
   },
   "file_extension": ".py",
   "mimetype": "text/x-python",
   "name": "python",
   "nbconvert_exporter": "python",
   "pygments_lexer": "ipython3",
   "version": "3.7.4"
  }
 },
 "nbformat": 4,
 "nbformat_minor": 2
}
