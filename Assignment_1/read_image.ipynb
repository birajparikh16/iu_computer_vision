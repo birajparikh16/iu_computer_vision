{
 "cells": [
  {
   "cell_type": "markdown",
   "metadata": {},
   "source": [
    "#### Import the relevant libraries"
   ]
  },
  {
   "cell_type": "code",
   "execution_count": 3,
   "metadata": {},
   "outputs": [],
   "source": [
    "from PIL import Image\n",
    "from PIL import ImageFilter\n",
    "from PIL import ImageDraw\n",
    "import numpy as np\n",
    "import copy\n",
    "import time\n",
    "import math"
   ]
  },
  {
   "cell_type": "markdown",
   "metadata": {},
   "source": [
    "#### Read and convert to greyscale"
   ]
  },
  {
   "cell_type": "markdown",
   "metadata": {},
   "source": [
    "Open the image and convert it to greyscale since we are asked to convolve on greyscale images"
   ]
  },
  {
   "cell_type": "code",
   "execution_count": 16,
   "metadata": {},
   "outputs": [],
   "source": [
    "def display_np(x):\n",
    "    \"\"\"\n",
    "    Display a numpy array as an image\n",
    "    \"\"\"\n",
    "    result = Image.fromarray(x.astype('uint8'))\n",
    "    result.show()"
   ]
  },
  {
   "cell_type": "code",
   "execution_count": 17,
   "metadata": {},
   "outputs": [],
   "source": [
    "def read_image(x):\n",
    "    x = Image.open('test-images/' + x).convert(\"L\")\n",
    "    x = np.array(x)\n",
    "    return x"
   ]
  },
  {
   "cell_type": "code",
   "execution_count": 18,
   "metadata": {},
   "outputs": [],
   "source": [
    "def read_list(imgs):\n",
    "    return [read_image(im) for im in imgs]"
   ]
  },
  {
   "cell_type": "code",
   "execution_count": 19,
   "metadata": {},
   "outputs": [],
   "source": [
    "pixels = read_image('music1.png')\n",
    "# pixels.shape"
   ]
  },
  {
   "cell_type": "markdown",
   "metadata": {},
   "source": [
    "#### Custom kernels"
   ]
  },
  {
   "cell_type": "code",
   "execution_count": 6,
   "metadata": {},
   "outputs": [],
   "source": [
    "def check_range(x): return (np.min(x), np.max(x))"
   ]
  },
  {
   "cell_type": "code",
   "execution_count": 7,
   "metadata": {},
   "outputs": [
    {
     "data": {
      "text/plain": [
       "(0, 255)"
      ]
     },
     "execution_count": 7,
     "metadata": {},
     "output_type": "execute_result"
    }
   ],
   "source": [
    "check_range(pixels)"
   ]
  },
  {
   "cell_type": "markdown",
   "metadata": {},
   "source": [
    "**Some test kernels**\n",
    "\n",
    "- a = identity\n",
    "- b = box blur\n",
    "- c = horizontal derivative\n",
    "- d = gaussian\n",
    "- e = sharpening\n",
    "- f = derivative of gaussian"
   ]
  },
  {
   "cell_type": "code",
   "execution_count": 8,
   "metadata": {},
   "outputs": [
    {
     "data": {
      "text/plain": [
       "array([[0., 0., 0.],\n",
       "       [0., 1., 0.],\n",
       "       [0., 0., 0.]])"
      ]
     },
     "execution_count": 8,
     "metadata": {},
     "output_type": "execute_result"
    }
   ],
   "source": [
    "a = np.zeros((3,3))\n",
    "a[1,1] = 1\n",
    "a"
   ]
  },
  {
   "cell_type": "code",
   "execution_count": 9,
   "metadata": {},
   "outputs": [
    {
     "data": {
      "text/plain": [
       "array([[1., 1., 1.],\n",
       "       [1., 1., 1.],\n",
       "       [1., 1., 1.]])"
      ]
     },
     "execution_count": 9,
     "metadata": {},
     "output_type": "execute_result"
    }
   ],
   "source": [
    "b = np.ones((3,3))\n",
    "b"
   ]
  },
  {
   "cell_type": "code",
   "execution_count": 10,
   "metadata": {},
   "outputs": [
    {
     "data": {
      "text/plain": [
       "array([[ 0.,  0.,  0.],\n",
       "       [-1.,  0.,  1.],\n",
       "       [ 0.,  0.,  0.]])"
      ]
     },
     "execution_count": 10,
     "metadata": {},
     "output_type": "execute_result"
    }
   ],
   "source": [
    "c = np.zeros((3,3))\n",
    "c[1,0], c[1,2] = -1, 1\n",
    "c"
   ]
  },
  {
   "cell_type": "code",
   "execution_count": 11,
   "metadata": {},
   "outputs": [
    {
     "data": {
      "text/plain": [
       "array([[0.003, 0.013, 0.022, 0.013, 0.003],\n",
       "       [0.013, 0.059, 0.097, 0.059, 0.013],\n",
       "       [0.022, 0.097, 0.159, 0.097, 0.022],\n",
       "       [0.013, 0.059, 0.097, 0.059, 0.013],\n",
       "       [0.003, 0.013, 0.022, 0.013, 0.003]])"
      ]
     },
     "execution_count": 11,
     "metadata": {},
     "output_type": "execute_result"
    }
   ],
   "source": [
    "d = np.array([[0.003,0.013,0.022,0.013,0.003],\n",
    "             [0.013,0.059,0.097,0.059,0.013],\n",
    "             [0.022,0.097,0.159,0.097,0.022],\n",
    "             [0.013,0.059,0.097,0.059,0.013],\n",
    "             [0.003,0.013,0.022,0.013,0.003]])\n",
    "d"
   ]
  },
  {
   "cell_type": "code",
   "execution_count": 12,
   "metadata": {},
   "outputs": [
    {
     "data": {
      "text/plain": [
       "array([[-0.003, -0.013, -0.022, -0.013, -0.003],\n",
       "       [-0.013, -0.059, -0.097, -0.059, -0.013],\n",
       "       [-0.022, -0.097,  1.641, -0.097, -0.022],\n",
       "       [-0.013, -0.059, -0.097, -0.059, -0.013],\n",
       "       [-0.003, -0.013, -0.022, -0.013, -0.003]])"
      ]
     },
     "execution_count": 12,
     "metadata": {},
     "output_type": "execute_result"
    }
   ],
   "source": [
    "# vary the value of alpha\n",
    "e = np.zeros((5,5))\n",
    "e[1:4,1:4] = a\n",
    "alpha = 0.8 + 1\n",
    "e = e * alpha - d\n",
    "e"
   ]
  },
  {
   "cell_type": "code",
   "execution_count": 13,
   "metadata": {},
   "outputs": [
    {
     "data": {
      "text/plain": [
       "array([[ 0.   ,  0.   ,  0.   ,  0.   ,  0.   ],\n",
       "       [ 0.   ,  0.   ,  0.   ,  0.   ,  0.   ],\n",
       "       [ 0.   , -0.097,  0.   ,  0.097,  0.   ],\n",
       "       [ 0.   ,  0.   ,  0.   ,  0.   ,  0.   ],\n",
       "       [ 0.   ,  0.   ,  0.   ,  0.   ,  0.   ]])"
      ]
     },
     "execution_count": 13,
     "metadata": {},
     "output_type": "execute_result"
    }
   ],
   "source": [
    "f = np.zeros((5,5))\n",
    "f[1:4,1:4] = c\n",
    "f = f * d\n",
    "f"
   ]
  },
  {
   "cell_type": "markdown",
   "metadata": {},
   "source": [
    "#### Padding the image"
   ]
  },
  {
   "cell_type": "code",
   "execution_count": 14,
   "metadata": {},
   "outputs": [],
   "source": [
    "def pad_image(x, kernel):\n",
    "    \"\"\"\n",
    "    Create a new numpy array with all values 255 and then add the image in between\n",
    "    i/p: image, kernel\n",
    "    o/p: padded_kernelx\n",
    "    \"\"\"\n",
    "    to_add = kernel.shape[0] - 1\n",
    "    padded_image = np.full((x.shape[0] + to_add, x.shape[1] + to_add), 255)\n",
    "    t = to_add // 2\n",
    "    padded_image[t: padded_image.shape[0] - t, t: padded_image.shape[1] - t] = x\n",
    "    return padded_image"
   ]
  },
  {
   "cell_type": "code",
   "execution_count": 15,
   "metadata": {},
   "outputs": [
    {
     "data": {
      "text/plain": [
       "(233, 1276)"
      ]
     },
     "execution_count": 15,
     "metadata": {},
     "output_type": "execute_result"
    }
   ],
   "source": [
    "p = pad_image(pixels, a)\n",
    "p.shape"
   ]
  },
  {
   "cell_type": "code",
   "execution_count": 16,
   "metadata": {},
   "outputs": [],
   "source": [
    "assert p.shape == (pixels.shape[0] + a.shape[0] - 1, pixels.shape[1] + a.shape[0] - 1)"
   ]
  },
  {
   "cell_type": "code",
   "execution_count": 17,
   "metadata": {},
   "outputs": [],
   "source": [
    "# display_np(pixels)"
   ]
  },
  {
   "cell_type": "markdown",
   "metadata": {},
   "source": [
    "#### convolution"
   ]
  },
  {
   "cell_type": "code",
   "execution_count": 39,
   "metadata": {},
   "outputs": [],
   "source": [
    "def conv2d(image, kernel, div = 1, clip = True):\n",
    "    \"\"\"\n",
    "    Applies 2d convolution on a 2d image. Also works with rectangular kernels\n",
    "    \"\"\"\n",
    "\n",
    "    # number of rows and columns of the kernel\n",
    "    r = kernel.shape[0]\n",
    "    c = kernel.shape[1]\n",
    "\n",
    "    # initialize a canvas for the output with 255s. We will fill values in this\n",
    "    output = np.full(image.shape, 255)\n",
    "    for i in range(image.shape[0] - r - 1):\n",
    "        for j in range(image.shape[1] - c - 1):\n",
    "            output[i][j] = np.sum(kernel * image[i:i+r, j:j+c]) / div\n",
    "    if clip: np.clip(output, 0, 255, out = output)\n",
    "    return output\n",
    "    #display_np(output)"
   ]
  },
  {
   "cell_type": "code",
   "execution_count": 19,
   "metadata": {},
   "outputs": [],
   "source": [
    "# conv2d(p, a)\n",
    "# conv2d(p, b, 9)\n",
    "# conv2d(p, c)\n",
    "# conv2d(p, d)\n",
    "# conv2d(p, e)\n",
    "# conv2d(p, f)"
   ]
  },
  {
   "cell_type": "code",
   "execution_count": 20,
   "metadata": {},
   "outputs": [],
   "source": [
    "sobel = np.array([[-1, 0, 1],\n",
    "                 [-2, 0, 2],\n",
    "                 [-1, 0, 1]])"
   ]
  },
  {
   "cell_type": "code",
   "execution_count": 21,
   "metadata": {},
   "outputs": [],
   "source": [
    "# conv2d(p, sobel)"
   ]
  },
  {
   "cell_type": "markdown",
   "metadata": {},
   "source": [
    "#### Template matching"
   ]
  },
  {
   "cell_type": "code",
   "execution_count": 22,
   "metadata": {},
   "outputs": [
    {
     "name": "stderr",
     "output_type": "stream",
     "text": [
      "Invalid switch - \"\".\n"
     ]
    }
   ],
   "source": [
    "%ls test-images/"
   ]
  },
  {
   "cell_type": "code",
   "execution_count": 23,
   "metadata": {},
   "outputs": [],
   "source": [
    "templates = read_list(['template1.png', 'template2.png', 'template3.png'])"
   ]
  },
  {
   "cell_type": "code",
   "execution_count": 24,
   "metadata": {},
   "outputs": [],
   "source": [
    "canvas = np.full(p.shape, 255)"
   ]
  },
  {
   "cell_type": "code",
   "execution_count": 25,
   "metadata": {},
   "outputs": [],
   "source": [
    "def find_threshold(y):\n",
    "    \"\"\"\n",
    "    Takes a number y and returns a threshold eg 3542, thresh = 3000\n",
    "    eg2 16258325 thresh 10000000\n",
    "    \"\"\"\n",
    "    y = [int(i) for i in str(y)]\n",
    "    thresh = y[0] * 10 ** (len(y) - 1)\n",
    "    return thresh"
   ]
  },
  {
   "cell_type": "code",
   "execution_count": 26,
   "metadata": {},
   "outputs": [],
   "source": [
    "def get_indexes(x, vals):\n",
    "    idxs1, idxs2 = np.array([]), np.array([])\n",
    "    \n",
    "    for v in vals:\n",
    "        v_idxs = np.where(x == v)\n",
    "        idxs1 = np.append(idxs1 ,v_idxs[0])\n",
    "        idxs2 = np.append(idxs2 ,v_idxs[1])\n",
    "    return idxs1, idxs2"
   ]
  },
  {
   "cell_type": "code",
   "execution_count": 27,
   "metadata": {},
   "outputs": [],
   "source": [
    "def temp_match(templates, padded_im):\n",
    "    \"\"\"\n",
    "    Takes a list of templates and an image and returns the matched template\n",
    "    \"\"\"\n",
    "    # also try the other images in the test_images\n",
    "    # esp the big ranch image or something\n",
    "    \n",
    "    \n",
    "    pix = Image.fromarray(padded_im.astype('uint8'))\n",
    "    img = ImageDraw.Draw(pix)  \n",
    "    \n",
    "    for template in templates:\n",
    "        # apply the hamming distance forumula\n",
    "        op = conv2d(padded_im, template, 1, False) + conv2d(255 - padded_im, 255 - template, 1, False)\n",
    "\n",
    "        # get the min and maximum value\n",
    "        x,y = check_range(op)    \n",
    "\n",
    "        # find threshold, eg if max val is 583 thresh = 500\n",
    "        thresh = find_threshold(y)\n",
    "\n",
    "        # get all the values above thresh\n",
    "        temp_op = op[op > thresh]\n",
    "\n",
    "        # get indexes of the values above thresh\n",
    "        idxs1, idxs2 = get_indexes(op, temp_op)\n",
    "\n",
    "        tr, tc = int(template.shape[0]), int(template.shape[1])\n",
    "        cr, cc = int(canvas.shape[0]), int(canvas.shape[1])\n",
    "\n",
    "        # if the template is not going out of the canvas, plot it\n",
    "        for r,c in zip(idxs1, idxs2):\n",
    "            r, c = int(r), int(c)\n",
    "            if r+tr < cr and c+tc < cc:\n",
    "                canvas[r:r+tr, c:c+tc] = padded_im[r:r+tr, c:c+tc]\n",
    "#         print(\"One template done\")\n",
    "#                 img.rectangle([(r,c),(r+tr,c+tc)],fill=None,outline=\"green\")\n",
    "#     pix.show()"
   ]
  },
  {
   "cell_type": "code",
   "execution_count": 28,
   "metadata": {},
   "outputs": [],
   "source": [
    "temp_match(templates,p)"
   ]
  },
  {
   "cell_type": "code",
   "execution_count": 29,
   "metadata": {},
   "outputs": [],
   "source": [
    "# op = conv2d(p, tmp3, 1, False) + conv2d(255 - p, 255 - tmp3, 1, False)"
   ]
  },
  {
   "cell_type": "code",
   "execution_count": 30,
   "metadata": {},
   "outputs": [],
   "source": [
    "# x,y = check_range(op)"
   ]
  },
  {
   "cell_type": "code",
   "execution_count": 31,
   "metadata": {},
   "outputs": [],
   "source": [
    "# print(x,y)"
   ]
  },
  {
   "cell_type": "code",
   "execution_count": 32,
   "metadata": {},
   "outputs": [],
   "source": [
    "display_np(canvas)"
   ]
  },
  {
   "cell_type": "markdown",
   "metadata": {},
   "source": [
    "#### 1d convolution"
   ]
  },
  {
   "cell_type": "code",
   "execution_count": 33,
   "metadata": {},
   "outputs": [],
   "source": [
    "def conv1d(image, kernel, div = 1):\n",
    "    \"\"\"\n",
    "    Performs 1d convolution on an image\n",
    "    \"\"\"\n",
    "    \n",
    "    im = copy.deepcopy(image.flatten())\n",
    "    k = copy.deepcopy(kernel.flatten())\n",
    "\n",
    "    size = len(k)\n",
    "    to_remove = len(k) - 1\n",
    "    \n",
    "    output = np.full((im.shape), 255)\n",
    "    for i in range(len(im) - to_remove):\n",
    "        output[i] = np.sum(k * im[i:i+size]) / div\n",
    "    return output"
   ]
  },
  {
   "cell_type": "code",
   "execution_count": 34,
   "metadata": {},
   "outputs": [],
   "source": [
    "h1 = np.array([1,2,1])\n",
    "h2 = np.array([-1,0,1])"
   ]
  },
  {
   "cell_type": "code",
   "execution_count": 35,
   "metadata": {},
   "outputs": [],
   "source": [
    "tmp = conv1d(p, h1)"
   ]
  },
  {
   "cell_type": "code",
   "execution_count": 36,
   "metadata": {},
   "outputs": [],
   "source": [
    "result = conv1d(tmp, h2)"
   ]
  },
  {
   "cell_type": "code",
   "execution_count": 37,
   "metadata": {},
   "outputs": [
    {
     "data": {
      "text/plain": [
       "(-765, 765)"
      ]
     },
     "execution_count": 37,
     "metadata": {},
     "output_type": "execute_result"
    }
   ],
   "source": [
    "check_range(result)"
   ]
  },
  {
   "cell_type": "code",
   "execution_count": 38,
   "metadata": {},
   "outputs": [
    {
     "data": {
      "text/plain": [
       "(0, 255)"
      ]
     },
     "execution_count": 38,
     "metadata": {},
     "output_type": "execute_result"
    }
   ],
   "source": [
    "np.clip(result, 0, 255, out = result)\n",
    "check_range(result)"
   ]
  },
  {
   "cell_type": "code",
   "execution_count": 39,
   "metadata": {},
   "outputs": [
    {
     "data": {
      "text/plain": [
       "(233, 1276)"
      ]
     },
     "execution_count": 39,
     "metadata": {},
     "output_type": "execute_result"
    }
   ],
   "source": [
    "result = result.reshape(p.shape)\n",
    "result.shape"
   ]
  },
  {
   "cell_type": "code",
   "execution_count": 40,
   "metadata": {},
   "outputs": [],
   "source": [
    "# display_np(result)"
   ]
  },
  {
   "cell_type": "code",
   "execution_count": 41,
   "metadata": {},
   "outputs": [],
   "source": [
    "# im = Image.new('RGB', (500, 300), (128, 128, 128))\n",
    "# pix = Image.fromarray(pixels.astype('uint8'))\n",
    "# img1 = ImageDraw.Draw(pix)   \n",
    "# img1.rectangle([(0,20),(40,100)], fill =None, outline =\"red\")\n",
    "# img1.rectangle([(40,100), (60, 200)], fill =None, outline =\"green\") \n",
    "# pix.show() \n",
    "# draw = ImageDraw.Draw(pixels)"
   ]
  },
  {
   "cell_type": "code",
   "execution_count": 42,
   "metadata": {},
   "outputs": [],
   "source": [
    "# draw.line(((200, 100),(300, 200)),width=3)"
   ]
  },
  {
   "cell_type": "code",
   "execution_count": 43,
   "metadata": {},
   "outputs": [],
   "source": [
    "# im.show()"
   ]
  },
  {
   "cell_type": "code",
   "execution_count": 13,
   "metadata": {},
   "outputs": [
    {
     "data": {
      "text/plain": [
       "(array([[1],\n",
       "        [2],\n",
       "        [1]]), array([[1, 2, 1]]))"
      ]
     },
     "execution_count": 13,
     "metadata": {},
     "output_type": "execute_result"
    }
   ],
   "source": [
    "#Creating a sobel operator\n",
    "def sobel(mat):\n",
    "    \n",
    "    arr1 = []\n",
    "    arr2 = []\n",
    "    \n",
    "    #Finding the supposed first matrix\n",
    "    arr1.append(np.gcd.reduce(mat[0,:]))\n",
    "    arr1.append(np.gcd.reduce(mat[1,:]))\n",
    "    arr1.append(np.gcd.reduce(mat[2,:]))\n",
    "    \n",
    "    #Finding the supposed second matrix\n",
    "    arr2.append(np.gcd.reduce(mat[:,0]))\n",
    "    arr2.append(np.gcd.reduce(mat[:,1]))\n",
    "    arr2.append(np.gcd.reduce(mat[:,2]))\n",
    "    \n",
    "    #Reshaping the two matrices\n",
    "    arr1 = np.array(arr1).reshape(3,1)\n",
    "    arr2 = np.array(arr2).reshape(1,3)\n",
    "    \n",
    "    #Checking whether the matrices are accurate\n",
    "    bool_mat = np.equal(np.matmul(arr1, arr2), mat)\n",
    "    \n",
    "    if((np.logical_not(np.bitwise_xor(bool_mat[0,:],[False, False, False]))).all()):\n",
    "        arr1[0] = np.negative(arr1[0])\n",
    "        \n",
    "    elif((np.logical_not(np.bitwise_xor(bool_mat[1,:],[False, False, False]))).all()):\n",
    "        arr1[1] = np.negative(arr1[1])\n",
    "        \n",
    "    elif((np.logical_not(np.bitwise_xor(bool_mat[2,:],[False, False, False]))).all()):\n",
    "        arr1[2] = np.negative(arr1[2])\n",
    "        \n",
    "    return arr1, arr2\n",
    "\n",
    "mat = np.array([[1,2,1],[2,4,2],[1,2,1]])\n",
    "sobel(mat)"
   ]
  },
  {
   "cell_type": "code",
   "execution_count": 29,
   "metadata": {},
   "outputs": [
    {
     "data": {
      "text/plain": [
       "<matplotlib.image.AxesImage at 0x21e528c59e8>"
      ]
     },
     "execution_count": 29,
     "metadata": {},
     "output_type": "execute_result"
    },
    {
     "data": {
      "image/png": "[encoded data removed]",
      "text/plain": [
       "<Figure size 432x288 with 1 Axes>"
      ]
     },
     "metadata": {
      "needs_background": "light"
     },
     "output_type": "display_data"
    }
   ],
   "source": [
    "import matplotlib.pyplot as plt\n",
    "%matplotlib inline\n",
    "\n",
    "pixels = read_image('music1.png')\n",
    "\n",
    "kernel = np.array([[1,2,1],[2,4,2],[1,2,1]])\n",
    "\n",
    "plt.imshow(conv2d(pixels, kernel))"
   ]
  },
  {
   "cell_type": "code",
   "execution_count": 44,
   "metadata": {},
   "outputs": [
    {
     "name": "stdout",
     "output_type": "stream",
     "text": [
      "(231, 1274)\n"
     ]
    }
   ],
   "source": [
    "#Using sobel kernels\n",
    "sobel_kernel = np.array([[-1, 0, 1], [-2, 0, 2], [-1, 0, 1]])\n",
    "\n",
    "#Convolving the image\n",
    "conv_img = conv2d(pixels, kernel_1)\n",
    "\n",
    "#plt.imshow(conv_img)\n",
    "\n",
    "print(pixels.shape)"
   ]
  },
  {
   "cell_type": "code",
   "execution_count": 74,
   "metadata": {},
   "outputs": [
    {
     "name": "stdout",
     "output_type": "stream",
     "text": [
      "(231, 1274)\n",
      "(231, 1274)\n"
     ]
    }
   ],
   "source": [
    "#Creating an empty edge maps\n",
    "T = []\n",
    "\n",
    "#Iterating through the image\n",
    "for i in conv_img:\n",
    "    for j in i:\n",
    "        \n",
    "        #Checking if pixel value is 0 or not\n",
    "        if(j == 0):\n",
    "            T.append(0)\n",
    "        else:\n",
    "            T.append(1)\n",
    "            \n",
    "#Converting edge map to numpy array and reshaping it to the convolved image\n",
    "T = np.array(T).reshape(conv_img.shape)\n",
    "\n",
    "#Creating the other edge map\n",
    "I = np.copy(T)\n",
    "\n",
    "#Checking the shape of the edge maps\n",
    "print(T.shape)\n",
    "print(I.shape)"
   ]
  },
  {
   "cell_type": "code",
   "execution_count": 76,
   "metadata": {},
   "outputs": [],
   "source": [
    "#Creating a function to calculate distance\n",
    "def calc_dist(a, b, c, d):\n",
    "    \n",
    "    #Calculating distance\n",
    "    dist = math.sqrt(abs(((a - c)*(a - c)) + ((b - d)*(b - d))))\n",
    "    \n",
    "    return dist\n",
    "\n",
    "#Retrieving the number of rows and columns in the image\n",
    "row, col = conv_img.shape\n",
    "\n",
    "#Creating an array to store distances\n",
    "D = []\n",
    "\n",
    "#Iterating through the image pixels\n",
    "for p in range(0,row):\n",
    "    for q in range(0,col):\n",
    "        \n",
    "        #Creating a temporary array\n",
    "        temp = []\n",
    "        \n",
    "        #Iterating through the edge pixels\n",
    "        for i in range(0,row):\n",
    "            for j in range(0,col):\n",
    "                if(conv_img[i][j] != 0):\n",
    "                    \n",
    "                    #Calculating distance and storing it in temp\n",
    "                    dist = calc_dist(p, q, i, j)\n",
    "                    temp.append(dist)\n",
    "                    \n",
    "        #Converting the temporary array to a numpy array\n",
    "        temp = np.array(temp)\n",
    "        \n",
    "        #Finding the smallest distance and storing it in D\n",
    "        min_dist = np.min(temp)\n",
    "        D.append(min_dist)\n",
    "        \n",
    "        print(p,q)\n",
    "        \n",
    "#Reshaping D to that of the image\n",
    "D = np.array(D).reshape(conv_img.shape)"
   ]
  },
  {
   "cell_type": "code",
   "execution_count": null,
   "metadata": {},
   "outputs": [],
   "source": []
  }
 ],
 "metadata": {
  "kernelspec": {
   "display_name": "Python 3",
   "language": "python",
   "name": "python3"
  },
  "language_info": {
   "codemirror_mode": {
    "name": "ipython",
    "version": 3
   },
   "file_extension": ".py",
   "mimetype": "text/x-python",
   "name": "python",
   "nbconvert_exporter": "python",
   "pygments_lexer": "ipython3",
   "version": "3.7.3"
  }
 },
 "nbformat": 4,
 "nbformat_minor": 2
}
