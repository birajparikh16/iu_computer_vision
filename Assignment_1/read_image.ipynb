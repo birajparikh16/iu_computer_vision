{
 "cells": [
  {
   "cell_type": "markdown",
   "metadata": {
    "heading_collapsed": true
   },
   "source": [
    "#### Import the relevant libraries"
   ]
  },
  {
   "cell_type": "code",
   "execution_count": 1,
   "metadata": {
    "hidden": true
   },
   "outputs": [],
   "source": [
    "from PIL import Image\n",
    "from PIL import ImageDraw\n",
    "import numpy as np\n",
    "import copy\n",
    "import time\n",
    "import math"
   ]
  },
  {
   "cell_type": "markdown",
   "metadata": {
    "heading_collapsed": true
   },
   "source": [
    "#### Read and convert to greyscale"
   ]
  },
  {
   "cell_type": "markdown",
   "metadata": {
    "hidden": true
   },
   "source": [
    "Open the image and convert it to greyscale since we are asked to convolve on greyscale images"
   ]
  },
  {
   "cell_type": "code",
   "execution_count": 2,
   "metadata": {
    "hidden": true
   },
   "outputs": [],
   "source": [
    "def display_np(x):\n",
    "    \"\"\"\n",
    "    Display a numpy array as an image\n",
    "    \"\"\"\n",
    "    result = Image.fromarray(x.astype('uint8'))\n",
    "    result.show()"
   ]
  },
  {
   "cell_type": "code",
   "execution_count": 3,
   "metadata": {
    "hidden": true
   },
   "outputs": [],
   "source": [
    "def check_range(x): return np.min(x), np.max(x)"
   ]
  },
  {
   "cell_type": "code",
   "execution_count": 4,
   "metadata": {
    "hidden": true
   },
   "outputs": [],
   "source": [
    "def read_image(x):\n",
    "    x = Image.open('test-images/' + x).convert(\"L\")\n",
    "    x = np.array(x)\n",
    "    return x"
   ]
  },
  {
   "cell_type": "code",
   "execution_count": 5,
   "metadata": {
    "hidden": true
   },
   "outputs": [],
   "source": [
    "def read_list(imgs):\n",
    "    return [read_image(im) for im in imgs]"
   ]
  },
  {
   "cell_type": "code",
   "execution_count": 6,
   "metadata": {
    "hidden": true
   },
   "outputs": [
    {
     "data": {
      "text/plain": [
       "(1600, 1237)"
      ]
     },
     "execution_count": 6,
     "metadata": {},
     "output_type": "execute_result"
    }
   ],
   "source": [
    "name = 'custom_test.jpeg'\n",
    "pixels = read_image(name)\n",
    "pixels.shape"
   ]
  },
  {
   "cell_type": "markdown",
   "metadata": {
    "heading_collapsed": true
   },
   "source": [
    "#### Padding the image"
   ]
  },
  {
   "cell_type": "code",
   "execution_count": 7,
   "metadata": {
    "hidden": true
   },
   "outputs": [
    {
     "data": {
      "text/plain": [
       "array([[1., 1., 1.],\n",
       "       [1., 1., 1.],\n",
       "       [1., 1., 1.]])"
      ]
     },
     "execution_count": 7,
     "metadata": {},
     "output_type": "execute_result"
    }
   ],
   "source": [
    "a = np.ones((3,3))\n",
    "a"
   ]
  },
  {
   "cell_type": "code",
   "execution_count": 8,
   "metadata": {
    "hidden": true
   },
   "outputs": [],
   "source": [
    "def pad_image(x, kernel):\n",
    "    \"\"\"\n",
    "    Create a new numpy array with all values 255 and then add the image in between\n",
    "    i/p: image, kernel\n",
    "    o/p: padded_kernelx\n",
    "    \"\"\"\n",
    "    to_add = kernel.shape[0] - 1\n",
    "    padded_image = np.full((x.shape[0] + to_add, x.shape[1] + to_add), 255)\n",
    "    t = to_add // 2\n",
    "    padded_image[t: padded_image.shape[0] - t, t: padded_image.shape[1] - t] = x\n",
    "    return padded_image"
   ]
  },
  {
   "cell_type": "code",
   "execution_count": 9,
   "metadata": {
    "hidden": true
   },
   "outputs": [
    {
     "data": {
      "text/plain": [
       "(1602, 1239)"
      ]
     },
     "execution_count": 9,
     "metadata": {},
     "output_type": "execute_result"
    }
   ],
   "source": [
    "p = pad_image(pixels, a)\n",
    "p.shape"
   ]
  },
  {
   "cell_type": "code",
   "execution_count": 10,
   "metadata": {
    "hidden": true
   },
   "outputs": [],
   "source": [
    "assert p.shape == (pixels.shape[0] + a.shape[0] - 1, pixels.shape[1] + a.shape[0] - 1)"
   ]
  },
  {
   "cell_type": "code",
   "execution_count": 11,
   "metadata": {
    "hidden": true
   },
   "outputs": [],
   "source": [
    "a = np.zeros((3,3))\n",
    "a[1,1] = 1\n",
    "\n",
    "\n",
    "d = np.array([[0.003,0.013,0.022,0.013,0.003],\n",
    "             [0.013,0.059,0.097,0.059,0.013],\n",
    "             [0.022,0.097,0.159,0.097,0.022],\n",
    "             [0.013,0.059,0.097,0.059,0.013],\n",
    "             [0.003,0.013,0.022,0.013,0.003]])\n",
    "\n",
    "e = np.zeros((5,5))\n",
    "e[1:4,1:4] = a\n",
    "alpha = 0.9 + 1\n",
    "e = e * alpha - d"
   ]
  },
  {
   "cell_type": "code",
   "execution_count": 12,
   "metadata": {
    "hidden": true
   },
   "outputs": [],
   "source": [
    "# display_np(pixels)"
   ]
  },
  {
   "cell_type": "markdown",
   "metadata": {
    "heading_collapsed": true
   },
   "source": [
    "#### convolution"
   ]
  },
  {
   "cell_type": "code",
   "execution_count": 13,
   "metadata": {
    "hidden": true
   },
   "outputs": [],
   "source": [
    "def conv2d(image, kernel, div = 1, clip = True):\n",
    "    \"\"\"\n",
    "    Applies 2d convolution on a 2d image. Also works with rectangular kernels\n",
    "    \"\"\"\n",
    "\n",
    "    # number of rows and columns of the kernel\n",
    "    r = kernel.shape[0]\n",
    "    c = kernel.shape[1]\n",
    "\n",
    "    # initialize a canvas for the output with 255s. We will fill values in this\n",
    "    output = np.full(image.shape, 255)\n",
    "    for i in range(image.shape[0] - r - 1):\n",
    "        for j in range(image.shape[1] - c - 1):\n",
    "            output[i][j] = np.sum(kernel * image[i:i+r, j:j+c]) / div\n",
    "    if clip: np.clip(output, 0, 255, out = output)\n",
    "    return output\n",
    "    #display_np(output)"
   ]
  },
  {
   "cell_type": "code",
   "execution_count": 14,
   "metadata": {
    "hidden": true
   },
   "outputs": [],
   "source": [
    "sobel = np.array([[-1, 0, 1],\n",
    "                 [-2, 0, 2],\n",
    "                 [-1, 0, 1]])"
   ]
  },
  {
   "cell_type": "code",
   "execution_count": 15,
   "metadata": {
    "hidden": true
   },
   "outputs": [],
   "source": [
    "# conv2d(p, sobel)"
   ]
  },
  {
   "cell_type": "code",
   "execution_count": 16,
   "metadata": {
    "hidden": true
   },
   "outputs": [],
   "source": [
    "p = conv2d(p, e)"
   ]
  },
  {
   "cell_type": "markdown",
   "metadata": {
    "heading_collapsed": true
   },
   "source": [
    "#### Template matching"
   ]
  },
  {
   "cell_type": "code",
   "execution_count": 17,
   "metadata": {
    "hidden": true
   },
   "outputs": [],
   "source": [
    "templates = read_list(['template1.png', 'template2.png', 'template3.png'])"
   ]
  },
  {
   "cell_type": "code",
   "execution_count": 18,
   "metadata": {
    "hidden": true
   },
   "outputs": [
    {
     "data": {
      "text/plain": [
       "(11, 17)"
      ]
     },
     "execution_count": 18,
     "metadata": {},
     "output_type": "execute_result"
    }
   ],
   "source": [
    "templates[0].shape"
   ]
  },
  {
   "cell_type": "code",
   "execution_count": 19,
   "metadata": {
    "hidden": true
   },
   "outputs": [],
   "source": [
    "canvas = np.full(p.shape, 255)"
   ]
  },
  {
   "cell_type": "code",
   "execution_count": 20,
   "metadata": {
    "hidden": true
   },
   "outputs": [],
   "source": [
    "def find_threshold(y, i): return 0.89 if i == 0 else 0.97"
   ]
  },
  {
   "cell_type": "code",
   "execution_count": 21,
   "metadata": {
    "hidden": true
   },
   "outputs": [],
   "source": [
    "def get_indexes(x, vals):\n",
    "    idxs1, idxs2 = np.array([]), np.array([])\n",
    "    for v in vals:\n",
    "        v_idxs = np.where(x == v)\n",
    "        idxs1 = np.append(idxs1 ,v_idxs[0])\n",
    "        idxs2 = np.append(idxs2 ,v_idxs[1])\n",
    "    return idxs1, idxs2"
   ]
  },
  {
   "cell_type": "code",
   "execution_count": 22,
   "metadata": {
    "hidden": true
   },
   "outputs": [],
   "source": [
    "def temp_match(templates, padded_im, name):\n",
    "    \"\"\"\n",
    "    Takes a list of templates and an image and returns the matched template\n",
    "    \"\"\"\n",
    "    pix = Image.fromarray(padded_im.astype('uint8')).convert(\"RGB\")\n",
    "    img = ImageDraw.Draw(pix)  \n",
    "    i = 0\n",
    "    temp_names = ['note', 'quarter_rest', 'eighth rest']\n",
    "    txt_op = []\n",
    "    excluded = ['music2.png', 'music3.png', 'music4.png', 'rach.png']\n",
    "    for template in templates:\n",
    "        # apply the hamming distance forumula\n",
    "        op = conv2d(padded_im, template, 1, False) + conv2d(255 - padded_im, 255 - template, 1, False)\n",
    "\n",
    "        # get the min and maximum value\n",
    "        x,y = check_range(op)\n",
    "        op = np.divide(op, np.max(op))\n",
    "\n",
    "        # find threshold, eg if max val is 583 thresh = 500\n",
    "        thresh = find_threshold(y, i)\n",
    "        if temp_names[i] == 'quarter_rest' and name in excluded:\n",
    "            i += 1\n",
    "            continue\n",
    "        # get all the values above thresh\n",
    "        temp_op = op[op > thresh]\n",
    "        conf = np.append(temp_op, temp_op)\n",
    "\n",
    "        # get indexes of the values above thresh\n",
    "        idxs1, idxs2 = get_indexes(op, temp_op)\n",
    "        conf = conf[0:len(idxs1)]\n",
    "\n",
    "        tr, tc = int(template.shape[0]), int(template.shape[1])\n",
    "        cr, cc = int(canvas.shape[0]), int(canvas.shape[1])\n",
    "\n",
    "        # if the template is not going out of the canvas, plot it\n",
    "        for r,c in zip(idxs1, idxs2):\n",
    "            r, c = int(r), int(c)\n",
    "            if r+tr < cr and c+tc < cc:\n",
    "                canvas[r:r+tr, c:c+tc] = padded_im[r:r+tr, c:c+tc]\n",
    "                txt_op.append([r,c,tr,tc,temp_names[i], 'A', round(conf[i],3)])\n",
    "                if i == 0:\n",
    "                    img.rectangle(((c-1,r-1),(c+tc-1,r+tr-1)),fill=None,outline=\"red\")\n",
    "                elif i == 1:\n",
    "                    img.rectangle(((c-1,r-1),(c+tc-1,r+tr-1)),fill=None,outline=\"green\")\n",
    "                elif i == 2:\n",
    "                    img.rectangle(((c-1,r-1),(c+tc-1,r+tr-1)),fill=None,outline=\"blue\")\n",
    "        i+=1\n",
    "                    \n",
    "    pix.show()\n",
    "    pix.save('detected_' + name)"
   ]
  },
  {
   "cell_type": "code",
   "execution_count": 23,
   "metadata": {
    "hidden": true
   },
   "outputs": [],
   "source": [
    "temp_match(templates,p, name)"
   ]
  },
  {
   "cell_type": "code",
   "execution_count": 24,
   "metadata": {
    "hidden": true
   },
   "outputs": [],
   "source": [
    "# display_np(canvas)"
   ]
  },
  {
   "cell_type": "code",
   "execution_count": 25,
   "metadata": {
    "hidden": true
   },
   "outputs": [
    {
     "ename": "ZeroDivisionError",
     "evalue": "division by zero",
     "output_type": "error",
     "traceback": [
      "\u001b[0;31m---------------------------------------------------------------------------\u001b[0m",
      "\u001b[0;31mZeroDivisionError\u001b[0m                         Traceback (most recent call last)",
      "\u001b[0;32m<ipython-input-25-adafc2937013>\u001b[0m in \u001b[0;36m<module>\u001b[0;34m\u001b[0m\n\u001b[0;32m----> 1\u001b[0;31m \u001b[0;36m5\u001b[0m \u001b[0;34m/\u001b[0m \u001b[0;36m0\u001b[0m\u001b[0;34m\u001b[0m\u001b[0;34m\u001b[0m\u001b[0m\n\u001b[0m",
      "\u001b[0;31mZeroDivisionError\u001b[0m: division by zero"
     ]
    }
   ],
   "source": [
    "5 / 0"
   ]
  },
  {
   "cell_type": "markdown",
   "metadata": {
    "heading_collapsed": true
   },
   "source": [
    "#### Part 6"
   ]
  },
  {
   "cell_type": "code",
   "execution_count": null,
   "metadata": {
    "hidden": true
   },
   "outputs": [],
   "source": [
    "#Using sobel kernels\n",
    "sobel_kernel = np.array([[-1, 0, 1], [-2, 0, 2], [-1, 0, 1]])\n",
    "\n",
    "#Convolving the image\n",
    "conv_img = conv2d(p, sobel_kernel.T)\n",
    "\n",
    "conv_img.shape\n",
    "\n",
    "#display_np(conv_img)\n",
    "# print(pixels.shape)"
   ]
  },
  {
   "cell_type": "code",
   "execution_count": null,
   "metadata": {
    "hidden": true
   },
   "outputs": [],
   "source": [
    "edge_maps = copy.deepcopy(conv_img)\n",
    "edge_maps[edge_maps != 0] = 1\n",
    "\n",
    "e2 = copy.deepcopy(edge_maps)"
   ]
  },
  {
   "cell_type": "code",
   "execution_count": null,
   "metadata": {
    "hidden": true
   },
   "outputs": [],
   "source": [
    "#Creating a function to calculate distance\n",
    "def calc_dist(a, b, c, d):\n",
    "    \n",
    "    #Calculating distance\n",
    "    dist = np.sqrt(np.abs(((a - c)**2) + ((b - d)**2)))\n",
    "    return dist\n",
    "\n",
    "#Retrieving the number of rows and columns in the image\n",
    "row, col = conv_img.shape\n",
    "\n",
    "#Creating an array to store distances\n",
    "D = []\n",
    "\n",
    "#Iterating through the image pixels\n",
    "for p in range(0,row):\n",
    "    for q in range(0,col):\n",
    "        \n",
    "        #Creating a temporary array\n",
    "        temp = []\n",
    "        \n",
    "        #Iterating through the edge pixels\n",
    "        for i in range(0,row):\n",
    "            for j in range(i,col):\n",
    "                if(conv_img[i][j] == 255):\n",
    "                    \n",
    "                    #Calculating distance and storing it in temp\n",
    "                    dist = calc_dist(p, q, i, j)\n",
    "                    temp.append(dist)\n",
    "                    \n",
    "        #Converting the temporary array to a numpy array\n",
    "        temp = np.array(temp)\n",
    "        \n",
    "        #Finding the smallest distance and storing it in D\n",
    "        min_dist = np.min(temp)\n",
    "        D.append(min_dist)\n",
    "        \n",
    "        print(p,q)\n",
    "        \n",
    "#Reshaping D to that of the image\n",
    "D = np.array(D).reshape(conv_img.shape)"
   ]
  },
  {
   "cell_type": "markdown",
   "metadata": {
    "heading_collapsed": true
   },
   "source": [
    "#### Hough transform"
   ]
  },
  {
   "cell_type": "code",
   "execution_count": null,
   "metadata": {
    "hidden": true
   },
   "outputs": [],
   "source": [
    "conv_img.shape"
   ]
  },
  {
   "cell_type": "code",
   "execution_count": null,
   "metadata": {
    "hidden": true
   },
   "outputs": [],
   "source": [
    "#Referred https://www.science-emergence.com/Articles/Implementing-a-simple-python-code-to-detect-straight-lines-using-Hough-transform/\n",
    "import matplotlib.pyplot as plt\n",
    "import scipy.ndimage.filters as filters\n",
    "import scipy.ndimage as ndimage\n",
    "\n",
    "#Creating a function to perform Hough Transform on the image\n",
    "def hough_transform(img, threshold):\n",
    "    \n",
    "    #Finding the shape of the image\n",
    "    img_shape = img.shape\n",
    "\n",
    "    #Finding the number of rows and columns in the image\n",
    "    nrow = img_shape[0]\n",
    "    ncol = img_shape[1]\n",
    "\n",
    "    #Finding the maximum and minimum value of theta (ranges from -pi/2 to pi/2 so a total of pi radians)\n",
    "    theta_max = 1.0 * math.pi \n",
    "    theta_min = 0.0\n",
    "\n",
    "    #Finding the maximum and minimum distance from the origin (ranges from 0 to the diagonal of the image)\n",
    "    rho_min = 0.0\n",
    "    rho_max = math.hypot(nrow, ncol)\n",
    "\n",
    "    #Setting the rho and theta dimensions in the hough space\n",
    "    rho_dim = 200 \n",
    "    theta_dim = 300\n",
    "\n",
    "    #Creating a hough space filled with zeros\n",
    "    hough_space = np.zeros((rho_dim, theta_dim))\n",
    "    \n",
    "    #Iterating through the image\n",
    "    for x in range(nrow):\n",
    "        for y in range(ncol):\n",
    "            \n",
    "            #Checking if the pixel is an edge\n",
    "            if img[x,y] == 255: continue\n",
    "            \n",
    "            #Iterating through the theta dimension\n",
    "            for itheta in range(theta_dim):\n",
    "                \n",
    "                #Calculating the value of theta as float\n",
    "                theta = 1.0 * itheta * theta_max / theta_dim\n",
    "                \n",
    "                #Calculating the value of rho using theta\n",
    "                rho = x * math.cos(theta) + y * math.sin(theta)\n",
    "                \n",
    "                #Finding the rho iterator as float\n",
    "                irho = rho_dim * ( 1.0 * rho ) / rho_max\n",
    "                \n",
    "                hough_space[int(irho), int(itheta)] = hough_space[int(irho), int(itheta)] + 1\n",
    "\n",
    "    #Plotting the Hough Space\n",
    "    plt.imshow(hough_space, origin='lower')\n",
    "    plt.xlim(0, theta_dim)\n",
    "    plt.ylim(0, rho_dim)\n",
    "\n",
    "    tick_locs = [i for i in range(0,theta_dim,40)]\n",
    "    tick_lbls = [round( (1.0 * i * theta_max) / theta_dim,1) for i in range(0, theta_dim, 40)]\n",
    "    plt.xticks(tick_locs, tick_lbls)\n",
    "\n",
    "    tick_locs = [i for i in range(0,rho_dim,20)]\n",
    "    tick_lbls = [round( (1.0 * i * rho_max ) / rho_dim, 1) for i in range(0, rho_dim, 20)]\n",
    "    plt.yticks(tick_locs, tick_lbls)\n",
    "\n",
    "    plt.xlabel(r'Theta')\n",
    "    plt.ylabel(r'Rho')\n",
    "    plt.title('Hough Space')\n",
    "\n",
    "    plt.savefig(\"test-images/hough_image.png\", bbox_inches='tight')\n",
    "\n",
    "    plt.close()\n",
    "    \n",
    "    #Setting the size of the neighborhood\n",
    "    neighborhood_size = 30\n",
    "    \n",
    "    #Finding the multi-dimensionsal maximum filter of the hough space\n",
    "    data_max = filters.maximum_filter(hough_space, neighborhood_size)\n",
    "\n",
    "    #Finding the local maxima in the hough space\n",
    "    maxima = (hough_space == data_max)\n",
    "\n",
    "    #Finding the multi-dimensionsal minimum filter of the hough space\n",
    "    data_min = filters.minimum_filter(hough_space, neighborhood_size)\n",
    "\n",
    "    #\n",
    "    diff = ((data_max - data_min) > threshold)\n",
    "    maxima[diff == 0] = 0\n",
    "\n",
    "    #Finding the number of features in the local maxima\n",
    "    labeled, num_objects = ndimage.label(maxima)\n",
    "\n",
    "    #Finding the features in the labeled array\n",
    "    slices = ndimage.find_objects(labeled)\n",
    "\n",
    "    #Creating temporary arrays to store the cooridnates of the feature centers in the hough space\n",
    "    x, y = [], []\n",
    "\n",
    "    #Iterating through the features\n",
    "    for dy,dx in slices:\n",
    "\n",
    "        #Finding the x coordinate of the center index of the feature and appending to the array\n",
    "        x_center = (dx.start + dx.stop - 1)/2\n",
    "        x.append(x_center)\n",
    "\n",
    "        #Finding the y coordinate of the center index of the feature and appending to the array\n",
    "        y_center = (dy.start + dy.stop - 1)/2    \n",
    "        y.append(y_center)\n",
    "\n",
    "    #Printing the centers\n",
    "    print(x)\n",
    "    print(y)\n",
    "\n",
    "    #Plotting the Hough Space\n",
    "    plt.imshow(hough_space, origin = 'lower')\n",
    "    plt.savefig('test-images/hough_space_i_j.png', bbox_inches = 'tight')\n",
    "\n",
    "    plt.autoscale(False)\n",
    "    plt.plot(x,y, 'ro')\n",
    "    plt.savefig('test-images/hough_space_maximas.png', bbox_inches = 'tight')\n",
    "\n",
    "    plt.close()\n",
    "    \n",
    "    #Initializing the line index\n",
    "    line_index = 1\n",
    "\n",
    "    #Iterating through the feature centers\n",
    "    for i,j in zip(y, x):\n",
    "\n",
    "        #Finding the values of rho and theta\n",
    "        rho = round( (1.0 * i * rho_max ) / rho_dim, 1)\n",
    "        theta = round( (1.0 * j * theta_max) / theta_dim, 1)\n",
    "\n",
    "        fig, ax = plt.subplots()\n",
    "\n",
    "        #Creating a copy of the original image\n",
    "        copy_img = np.copy(img)\n",
    "\n",
    "        #Plotting the copied image\n",
    "        ax.imshow(copy_img)\n",
    "        ax.autoscale(False)\n",
    "\n",
    "        #Creating temporary arrays to store points\n",
    "        px = []\n",
    "        py = []\n",
    "\n",
    "        #Converting points from polar coordinates to cartesian coordinates\n",
    "        for i in range(-ncol - 40, ncol + 40, 1):\n",
    "            px.append( math.cos(-theta) * i - math.sin(-theta) * rho ) \n",
    "            py.append( math.sin(-theta) * i + math.cos(-theta) * rho )\n",
    "\n",
    "        #PLotting the cartesian points\n",
    "        ax.plot(px, py, linewidth = 10)\n",
    "\n",
    "        plt.savefig(\"test-images/image_line_\"+ \"%02d\" % line_index +\".png\", bbox_inches='tight')\n",
    "\n",
    "        plt.close()\n",
    "\n",
    "        #Incrementing the line index\n",
    "        line_index = line_index + 1"
   ]
  },
  {
   "cell_type": "code",
   "execution_count": null,
   "metadata": {
    "hidden": true
   },
   "outputs": [],
   "source": [
    "hough_transform(conv_img, 100)"
   ]
  },
  {
   "cell_type": "code",
   "execution_count": null,
   "metadata": {
    "hidden": true
   },
   "outputs": [],
   "source": []
  },
  {
   "cell_type": "code",
   "execution_count": null,
   "metadata": {
    "hidden": true
   },
   "outputs": [],
   "source": []
  },
  {
   "cell_type": "markdown",
   "metadata": {
    "heading_collapsed": true
   },
   "source": [
    "#### 1d convolution"
   ]
  },
  {
   "cell_type": "code",
   "execution_count": null,
   "metadata": {
    "hidden": true
   },
   "outputs": [],
   "source": [
    "def conv1d(image, kernel, div = 1):\n",
    "    \"\"\"\n",
    "    Performs 1d convolution on an image\n",
    "    \"\"\"\n",
    "    \n",
    "    im = copy.deepcopy(image.flatten())\n",
    "    k = copy.deepcopy(kernel.flatten())\n",
    "\n",
    "    size = len(k)\n",
    "    to_remove = len(k) - 1\n",
    "    \n",
    "    output = np.full((im.shape), 255)\n",
    "    for i in range(len(im) - to_remove):\n",
    "        output[i] = np.sum(k * im[i:i+size]) / div\n",
    "    return output"
   ]
  },
  {
   "cell_type": "code",
   "execution_count": null,
   "metadata": {
    "hidden": true
   },
   "outputs": [],
   "source": [
    "h1 = np.array([1,2,1])\n",
    "h2 = np.array([-1,0,1])"
   ]
  },
  {
   "cell_type": "code",
   "execution_count": null,
   "metadata": {
    "hidden": true
   },
   "outputs": [],
   "source": [
    "tmp = conv1d(p, h1)"
   ]
  },
  {
   "cell_type": "code",
   "execution_count": null,
   "metadata": {
    "hidden": true
   },
   "outputs": [],
   "source": [
    "result = conv1d(tmp, h2)"
   ]
  },
  {
   "cell_type": "code",
   "execution_count": null,
   "metadata": {
    "hidden": true
   },
   "outputs": [],
   "source": [
    "check_range(result)"
   ]
  },
  {
   "cell_type": "code",
   "execution_count": null,
   "metadata": {
    "hidden": true
   },
   "outputs": [],
   "source": [
    "np.clip(result, 0, 255, out = result)\n",
    "check_range(result)"
   ]
  },
  {
   "cell_type": "code",
   "execution_count": null,
   "metadata": {
    "hidden": true
   },
   "outputs": [],
   "source": [
    "result = result.reshape(p.shape)\n",
    "result.shape"
   ]
  },
  {
   "cell_type": "markdown",
   "metadata": {
    "heading_collapsed": true
   },
   "source": [
    "# Fin"
   ]
  }
 ],
 "metadata": {
  "kernelspec": {
   "display_name": "Python 3",
   "language": "python",
   "name": "python3"
  },
  "language_info": {
   "codemirror_mode": {
    "name": "ipython",
    "version": 3
   },
   "file_extension": ".py",
   "mimetype": "text/x-python",
   "name": "python",
   "nbconvert_exporter": "python",
   "pygments_lexer": "ipython3",
   "version": "3.7.3"
  }
 },
 "nbformat": 4,
 "nbformat_minor": 2
}
