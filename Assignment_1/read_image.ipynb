{
 "cells": [
  {
   "cell_type": "markdown",
   "metadata": {},
   "source": [
    "#### Import the relevant libraries"
   ]
  },
  {
   "cell_type": "code",
   "execution_count": 1,
   "metadata": {},
   "outputs": [],
   "source": [
    "from PIL import Image\n",
    "from PIL import ImageFilter\n",
    "import numpy as np"
   ]
  },
  {
   "cell_type": "markdown",
   "metadata": {},
   "source": [
    "#### Read and convert to greyscale"
   ]
  },
  {
   "cell_type": "markdown",
   "metadata": {},
   "source": [
    "Open the image and convert it to greyscale since we are asked to convolve on greyscale images"
   ]
  },
  {
   "cell_type": "code",
   "execution_count": 2,
   "metadata": {},
   "outputs": [
    {
     "data": {
      "text/plain": [
       "(231, 1274)"
      ]
     },
     "execution_count": 2,
     "metadata": {},
     "output_type": "execute_result"
    }
   ],
   "source": [
    "im = Image.open('test-images/music1.png').convert(\"L\")\n",
    "pixels = np.array(im)\n",
    "pixels.shape"
   ]
  },
  {
   "cell_type": "markdown",
   "metadata": {},
   "source": [
    "#### Padding the image"
   ]
  },
  {
   "cell_type": "markdown",
   "metadata": {},
   "source": [
    "Pad the image based on kernel size"
   ]
  },
  {
   "cell_type": "code",
   "execution_count": 3,
   "metadata": {},
   "outputs": [],
   "source": [
    "def check_range(x): return (np.min(x), np.max(x))"
   ]
  },
  {
   "cell_type": "code",
   "execution_count": 4,
   "metadata": {},
   "outputs": [
    {
     "data": {
      "text/plain": [
       "(0, 255)"
      ]
     },
     "execution_count": 4,
     "metadata": {},
     "output_type": "execute_result"
    }
   ],
   "source": [
    "check_range(pixels)"
   ]
  },
  {
   "cell_type": "markdown",
   "metadata": {},
   "source": [
    "**Some test kernels**\n",
    "\n",
    "- a = identity\n",
    "- b = box blur\n",
    "- c = horizontal derivative\n",
    "- d = gaussian\n",
    "- e = sharpening\n",
    "- f = derivative of gaussian"
   ]
  },
  {
   "cell_type": "code",
   "execution_count": 5,
   "metadata": {},
   "outputs": [
    {
     "data": {
      "text/plain": [
       "array([[0., 0., 0.],\n",
       "       [0., 1., 0.],\n",
       "       [0., 0., 0.]])"
      ]
     },
     "execution_count": 5,
     "metadata": {},
     "output_type": "execute_result"
    }
   ],
   "source": [
    "a = np.zeros((3,3))\n",
    "a[1,1] = 1\n",
    "a"
   ]
  },
  {
   "cell_type": "code",
   "execution_count": 6,
   "metadata": {},
   "outputs": [
    {
     "data": {
      "text/plain": [
       "array([[1., 1., 1.],\n",
       "       [1., 1., 1.],\n",
       "       [1., 1., 1.]])"
      ]
     },
     "execution_count": 6,
     "metadata": {},
     "output_type": "execute_result"
    }
   ],
   "source": [
    "b = np.ones((3,3))\n",
    "b"
   ]
  },
  {
   "cell_type": "code",
   "execution_count": 7,
   "metadata": {},
   "outputs": [
    {
     "data": {
      "text/plain": [
       "array([[ 0.,  0.,  0.],\n",
       "       [-1.,  0.,  1.],\n",
       "       [ 0.,  0.,  0.]])"
      ]
     },
     "execution_count": 7,
     "metadata": {},
     "output_type": "execute_result"
    }
   ],
   "source": [
    "c = np.zeros((3,3))\n",
    "c[1,0], c[1,2] = -1, 1\n",
    "c"
   ]
  },
  {
   "cell_type": "code",
   "execution_count": 8,
   "metadata": {},
   "outputs": [
    {
     "data": {
      "text/plain": [
       "array([[0.003, 0.013, 0.022, 0.013, 0.003],\n",
       "       [0.013, 0.059, 0.097, 0.059, 0.013],\n",
       "       [0.022, 0.097, 0.159, 0.097, 0.022],\n",
       "       [0.013, 0.059, 0.097, 0.059, 0.013],\n",
       "       [0.003, 0.013, 0.022, 0.013, 0.003]])"
      ]
     },
     "execution_count": 8,
     "metadata": {},
     "output_type": "execute_result"
    }
   ],
   "source": [
    "d = np.array([[0.003,0.013,0.022,0.013,0.003],\n",
    "             [0.013,0.059,0.097,0.059,0.013],\n",
    "             [0.022,0.097,0.159,0.097,0.022],\n",
    "             [0.013,0.059,0.097,0.059,0.013],\n",
    "             [0.003,0.013,0.022,0.013,0.003]])\n",
    "d"
   ]
  },
  {
   "cell_type": "code",
   "execution_count": 9,
   "metadata": {},
   "outputs": [
    {
     "data": {
      "text/plain": [
       "array([[-0.003, -0.013, -0.022, -0.013, -0.003],\n",
       "       [-0.013, -0.059, -0.097, -0.059, -0.013],\n",
       "       [-0.022, -0.097,  1.641, -0.097, -0.022],\n",
       "       [-0.013, -0.059, -0.097, -0.059, -0.013],\n",
       "       [-0.003, -0.013, -0.022, -0.013, -0.003]])"
      ]
     },
     "execution_count": 9,
     "metadata": {},
     "output_type": "execute_result"
    }
   ],
   "source": [
    "# vary the value of alpha\n",
    "e = np.zeros((5,5))\n",
    "e[1:4,1:4] = a\n",
    "alpha = 0.8 + 1\n",
    "e = e * alpha - d\n",
    "e"
   ]
  },
  {
   "cell_type": "code",
   "execution_count": 10,
   "metadata": {},
   "outputs": [
    {
     "data": {
      "text/plain": [
       "array([[ 0.   ,  0.   ,  0.   ,  0.   ,  0.   ],\n",
       "       [ 0.   ,  0.   ,  0.   ,  0.   ,  0.   ],\n",
       "       [ 0.   , -0.097,  0.   ,  0.097,  0.   ],\n",
       "       [ 0.   ,  0.   ,  0.   ,  0.   ,  0.   ],\n",
       "       [ 0.   ,  0.   ,  0.   ,  0.   ,  0.   ]])"
      ]
     },
     "execution_count": 10,
     "metadata": {},
     "output_type": "execute_result"
    }
   ],
   "source": [
    "f = np.zeros((5,5))\n",
    "f[1:4,1:4] = c\n",
    "f = f * d\n",
    "f"
   ]
  },
  {
   "cell_type": "code",
   "execution_count": 11,
   "metadata": {},
   "outputs": [],
   "source": [
    "def pad_image(x, kernel):\n",
    "    \"\"\"\n",
    "    Create a new numpy array with all values 255 and then add the image in between\n",
    "    i/p: image, kernel\n",
    "    o/p: padded_kernelx\n",
    "    \"\"\"\n",
    "    to_add = kernel.shape[0] - 1\n",
    "    padded_image = np.full((x.shape[0] + to_add, x.shape[1] + to_add), 255)\n",
    "    t = to_add // 2\n",
    "    padded_image[t: padded_image.shape[0] - t, t: padded_image.shape[1] - t] = x\n",
    "    return padded_image"
   ]
  },
  {
   "cell_type": "code",
   "execution_count": 12,
   "metadata": {},
   "outputs": [
    {
     "data": {
      "text/plain": [
       "(233, 1276)"
      ]
     },
     "execution_count": 12,
     "metadata": {},
     "output_type": "execute_result"
    }
   ],
   "source": [
    "p = pad_image(pixels, a)\n",
    "p.shape"
   ]
  },
  {
   "cell_type": "code",
   "execution_count": 13,
   "metadata": {},
   "outputs": [],
   "source": [
    "assert p.shape == (pixels.shape[0] + a.shape[0] - 1, pixels.shape[1] + a.shape[0] - 1)"
   ]
  },
  {
   "cell_type": "code",
   "execution_count": 14,
   "metadata": {},
   "outputs": [],
   "source": [
    "def display_np(x):\n",
    "    \"\"\"\n",
    "    Display a numpy array as an image\n",
    "    \"\"\"\n",
    "    result = Image.fromarray(x.astype('uint8'))\n",
    "    result.show()"
   ]
  },
  {
   "cell_type": "code",
   "execution_count": 15,
   "metadata": {},
   "outputs": [],
   "source": [
    "display_np(p)"
   ]
  },
  {
   "cell_type": "markdown",
   "metadata": {},
   "source": [
    "#### convolution"
   ]
  },
  {
   "cell_type": "code",
   "execution_count": 16,
   "metadata": {},
   "outputs": [],
   "source": [
    "def convolve(image, kernel, div = 1):\n",
    "\n",
    "    # how much subset of the image to take at a time eg 3*3\n",
    "    size = kernel.shape[0]\n",
    "    to_remove = kernel.shape[0] - 1\n",
    "\n",
    "    # initialize a canvas for the output with 0s. We will fill values in this\n",
    "    output = np.full(image.shape, 255)\n",
    "    for i in range(image.shape[0] - to_remove):\n",
    "        for j in range(image.shape[1] - to_remove):\n",
    "            output[i][j] = np.sum(kernel * image[i:i+size, j:j+size]) / div\n",
    "    np.clip(output, 0, 255, out = output)\n",
    "\n",
    "    display_np(output)"
   ]
  },
  {
   "cell_type": "code",
   "execution_count": 17,
   "metadata": {},
   "outputs": [],
   "source": [
    "convolve(p, a)\n",
    "convolve(p, b, 9)\n",
    "convolve(p, c)\n",
    "convolve(p, d)\n",
    "convolve(p, e)\n",
    "convolve(p, f)"
   ]
  },
  {
   "cell_type": "code",
   "execution_count": null,
   "metadata": {},
   "outputs": [],
   "source": []
  }
 ],
 "metadata": {
  "kernelspec": {
   "display_name": "Python 3",
   "language": "python",
   "name": "python3"
  },
  "language_info": {
   "codemirror_mode": {
    "name": "ipython",
    "version": 3
   },
   "file_extension": ".py",
   "mimetype": "text/x-python",
   "name": "python",
   "nbconvert_exporter": "python",
   "pygments_lexer": "ipython3",
   "version": "3.7.3"
  }
 },
 "nbformat": 4,
 "nbformat_minor": 2
}
